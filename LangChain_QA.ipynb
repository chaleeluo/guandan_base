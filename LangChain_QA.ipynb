{
 "cells": [
  {
   "cell_type": "markdown",
   "id": "b8559dfd-b5b9-46bd-910a-57bc15765242",
   "metadata": {},
   "source": [
    "# LangChain QA\n",
    "\n",
    "All code comes from [LangChain docs](langchain.readthedocs.io)."
   ]
  },
  {
   "cell_type": "code",
   "execution_count": 1,
   "id": "c7688495-ef79-4831-95bc-8c77eeb9b97d",
   "metadata": {
    "tags": []
   },
   "outputs": [
    {
     "name": "stdout",
     "output_type": "stream",
     "text": [
      "Requirement already satisfied: langchain in /home/tianyu/miniconda3/envs/kefu/lib/python3.9/site-packages (0.0.228)\n",
      "Requirement already satisfied: openai in /home/tianyu/miniconda3/envs/kefu/lib/python3.9/site-packages (0.27.8)\n",
      "Requirement already satisfied: chromadb in /home/tianyu/miniconda3/envs/kefu/lib/python3.9/site-packages (0.3.26)\n",
      "Requirement already satisfied: tiktoken in /home/tianyu/miniconda3/envs/kefu/lib/python3.9/site-packages (0.4.0)\n",
      "Collecting pypdf\n",
      "  Downloading pypdf-3.16.4-py3-none-any.whl.metadata (7.4 kB)\n",
      "Requirement already satisfied: PyYAML>=5.4.1 in /home/tianyu/miniconda3/envs/kefu/lib/python3.9/site-packages (from langchain) (6.0.1)\n",
      "Requirement already satisfied: SQLAlchemy<3,>=1.4 in /home/tianyu/miniconda3/envs/kefu/lib/python3.9/site-packages (from langchain) (2.0.22)\n",
      "Requirement already satisfied: aiohttp<4.0.0,>=3.8.3 in /home/tianyu/miniconda3/envs/kefu/lib/python3.9/site-packages (from langchain) (3.8.5)\n",
      "Requirement already satisfied: async-timeout<5.0.0,>=4.0.0 in /home/tianyu/miniconda3/envs/kefu/lib/python3.9/site-packages (from langchain) (4.0.2)\n",
      "Requirement already satisfied: dataclasses-json<0.6.0,>=0.5.7 in /home/tianyu/miniconda3/envs/kefu/lib/python3.9/site-packages (from langchain) (0.5.14)\n",
      "Requirement already satisfied: langchainplus-sdk<0.0.21,>=0.0.20 in /home/tianyu/miniconda3/envs/kefu/lib/python3.9/site-packages (from langchain) (0.0.20)\n",
      "Requirement already satisfied: numexpr<3.0.0,>=2.8.4 in /home/tianyu/miniconda3/envs/kefu/lib/python3.9/site-packages (from langchain) (2.8.7)\n",
      "Requirement already satisfied: numpy<2,>=1 in /home/tianyu/miniconda3/envs/kefu/lib/python3.9/site-packages (from langchain) (1.23.5)\n",
      "Requirement already satisfied: openapi-schema-pydantic<2.0,>=1.2 in /home/tianyu/miniconda3/envs/kefu/lib/python3.9/site-packages (from langchain) (1.2.4)\n",
      "Requirement already satisfied: pydantic<2,>=1 in /home/tianyu/miniconda3/envs/kefu/lib/python3.9/site-packages (from langchain) (1.10.13)\n",
      "Requirement already satisfied: requests<3,>=2 in /home/tianyu/miniconda3/envs/kefu/lib/python3.9/site-packages (from langchain) (2.31.0)\n",
      "Requirement already satisfied: tenacity<9.0.0,>=8.1.0 in /home/tianyu/miniconda3/envs/kefu/lib/python3.9/site-packages (from langchain) (8.2.3)\n",
      "Requirement already satisfied: tqdm in /home/tianyu/miniconda3/envs/kefu/lib/python3.9/site-packages (from openai) (4.65.0)\n",
      "Requirement already satisfied: pandas>=1.3 in /home/tianyu/miniconda3/envs/kefu/lib/python3.9/site-packages (from chromadb) (1.5.3)\n",
      "Requirement already satisfied: hnswlib>=0.7 in /home/tianyu/miniconda3/envs/kefu/lib/python3.9/site-packages (from chromadb) (0.7.0)\n",
      "Requirement already satisfied: clickhouse-connect>=0.5.7 in /home/tianyu/miniconda3/envs/kefu/lib/python3.9/site-packages (from chromadb) (0.6.17)\n",
      "Requirement already satisfied: duckdb>=0.7.1 in /home/tianyu/miniconda3/envs/kefu/lib/python3.9/site-packages (from chromadb) (0.9.1)\n",
      "Requirement already satisfied: fastapi>=0.85.1 in /home/tianyu/miniconda3/envs/kefu/lib/python3.9/site-packages (from chromadb) (0.101.0)\n",
      "Requirement already satisfied: uvicorn>=0.18.3 in /home/tianyu/miniconda3/envs/kefu/lib/python3.9/site-packages (from uvicorn[standard]>=0.18.3->chromadb) (0.23.2)\n",
      "Requirement already satisfied: posthog>=2.4.0 in /home/tianyu/miniconda3/envs/kefu/lib/python3.9/site-packages (from chromadb) (3.0.2)\n",
      "Requirement already satisfied: typing-extensions>=4.5.0 in /home/tianyu/miniconda3/envs/kefu/lib/python3.9/site-packages (from chromadb) (4.7.1)\n",
      "Requirement already satisfied: pulsar-client>=3.1.0 in /home/tianyu/miniconda3/envs/kefu/lib/python3.9/site-packages (from chromadb) (3.3.0)\n",
      "Requirement already satisfied: onnxruntime>=1.14.1 in /home/tianyu/miniconda3/envs/kefu/lib/python3.9/site-packages (from chromadb) (1.16.1)\n",
      "Requirement already satisfied: tokenizers>=0.13.2 in /home/tianyu/miniconda3/envs/kefu/lib/python3.9/site-packages (from chromadb) (0.13.3)\n",
      "Requirement already satisfied: overrides>=7.3.1 in /home/tianyu/miniconda3/envs/kefu/lib/python3.9/site-packages (from chromadb) (7.4.0)\n",
      "Requirement already satisfied: regex>=2022.1.18 in /home/tianyu/miniconda3/envs/kefu/lib/python3.9/site-packages (from tiktoken) (2023.6.3)\n",
      "Requirement already satisfied: attrs>=17.3.0 in /home/tianyu/miniconda3/envs/kefu/lib/python3.9/site-packages (from aiohttp<4.0.0,>=3.8.3->langchain) (23.1.0)\n",
      "Requirement already satisfied: charset-normalizer<4.0,>=2.0 in /home/tianyu/miniconda3/envs/kefu/lib/python3.9/site-packages (from aiohttp<4.0.0,>=3.8.3->langchain) (3.2.0)\n",
      "Requirement already satisfied: multidict<7.0,>=4.5 in /home/tianyu/miniconda3/envs/kefu/lib/python3.9/site-packages (from aiohttp<4.0.0,>=3.8.3->langchain) (6.0.4)\n",
      "Requirement already satisfied: yarl<2.0,>=1.0 in /home/tianyu/miniconda3/envs/kefu/lib/python3.9/site-packages (from aiohttp<4.0.0,>=3.8.3->langchain) (1.9.2)\n",
      "Requirement already satisfied: frozenlist>=1.1.1 in /home/tianyu/miniconda3/envs/kefu/lib/python3.9/site-packages (from aiohttp<4.0.0,>=3.8.3->langchain) (1.4.0)\n",
      "Requirement already satisfied: aiosignal>=1.1.2 in /home/tianyu/miniconda3/envs/kefu/lib/python3.9/site-packages (from aiohttp<4.0.0,>=3.8.3->langchain) (1.3.1)\n",
      "Requirement already satisfied: certifi in /home/tianyu/miniconda3/envs/kefu/lib/python3.9/site-packages (from clickhouse-connect>=0.5.7->chromadb) (2023.7.22)\n",
      "Requirement already satisfied: urllib3>=1.26 in /home/tianyu/miniconda3/envs/kefu/lib/python3.9/site-packages (from clickhouse-connect>=0.5.7->chromadb) (2.0.4)\n",
      "Requirement already satisfied: pytz in /home/tianyu/miniconda3/envs/kefu/lib/python3.9/site-packages (from clickhouse-connect>=0.5.7->chromadb) (2023.3)\n",
      "Requirement already satisfied: zstandard in /home/tianyu/miniconda3/envs/kefu/lib/python3.9/site-packages (from clickhouse-connect>=0.5.7->chromadb) (0.21.0)\n",
      "Requirement already satisfied: lz4 in /home/tianyu/miniconda3/envs/kefu/lib/python3.9/site-packages (from clickhouse-connect>=0.5.7->chromadb) (4.3.2)\n",
      "Requirement already satisfied: marshmallow<4.0.0,>=3.18.0 in /home/tianyu/miniconda3/envs/kefu/lib/python3.9/site-packages (from dataclasses-json<0.6.0,>=0.5.7->langchain) (3.20.1)\n",
      "Requirement already satisfied: typing-inspect<1,>=0.4.0 in /home/tianyu/miniconda3/envs/kefu/lib/python3.9/site-packages (from dataclasses-json<0.6.0,>=0.5.7->langchain) (0.9.0)\n",
      "Requirement already satisfied: starlette<0.28.0,>=0.27.0 in /home/tianyu/miniconda3/envs/kefu/lib/python3.9/site-packages (from fastapi>=0.85.1->chromadb) (0.27.0)\n",
      "Requirement already satisfied: coloredlogs in /home/tianyu/miniconda3/envs/kefu/lib/python3.9/site-packages (from onnxruntime>=1.14.1->chromadb) (15.0.1)\n",
      "Requirement already satisfied: flatbuffers in /home/tianyu/miniconda3/envs/kefu/lib/python3.9/site-packages (from onnxruntime>=1.14.1->chromadb) (23.5.26)\n",
      "Requirement already satisfied: packaging in /home/tianyu/miniconda3/envs/kefu/lib/python3.9/site-packages (from onnxruntime>=1.14.1->chromadb) (23.1)\n",
      "Requirement already satisfied: protobuf in /home/tianyu/miniconda3/envs/kefu/lib/python3.9/site-packages (from onnxruntime>=1.14.1->chromadb) (4.24.4)\n",
      "Requirement already satisfied: sympy in /home/tianyu/miniconda3/envs/kefu/lib/python3.9/site-packages (from onnxruntime>=1.14.1->chromadb) (1.12)\n",
      "Requirement already satisfied: python-dateutil>=2.8.1 in /home/tianyu/miniconda3/envs/kefu/lib/python3.9/site-packages (from pandas>=1.3->chromadb) (2.8.2)\n",
      "Requirement already satisfied: six>=1.5 in /home/tianyu/miniconda3/envs/kefu/lib/python3.9/site-packages (from posthog>=2.4.0->chromadb) (1.16.0)\n",
      "Requirement already satisfied: monotonic>=1.5 in /home/tianyu/miniconda3/envs/kefu/lib/python3.9/site-packages (from posthog>=2.4.0->chromadb) (1.6)\n",
      "Requirement already satisfied: backoff>=1.10.0 in /home/tianyu/miniconda3/envs/kefu/lib/python3.9/site-packages (from posthog>=2.4.0->chromadb) (2.2.1)\n",
      "Requirement already satisfied: idna<4,>=2.5 in /home/tianyu/miniconda3/envs/kefu/lib/python3.9/site-packages (from requests<3,>=2->langchain) (3.4)\n",
      "Requirement already satisfied: greenlet!=0.4.17 in /home/tianyu/miniconda3/envs/kefu/lib/python3.9/site-packages (from SQLAlchemy<3,>=1.4->langchain) (3.0.0)\n",
      "Requirement already satisfied: click>=7.0 in /home/tianyu/miniconda3/envs/kefu/lib/python3.9/site-packages (from uvicorn>=0.18.3->uvicorn[standard]>=0.18.3->chromadb) (8.1.6)\n",
      "Requirement already satisfied: h11>=0.8 in /home/tianyu/miniconda3/envs/kefu/lib/python3.9/site-packages (from uvicorn>=0.18.3->uvicorn[standard]>=0.18.3->chromadb) (0.14.0)\n",
      "Requirement already satisfied: httptools>=0.5.0 in /home/tianyu/miniconda3/envs/kefu/lib/python3.9/site-packages (from uvicorn[standard]>=0.18.3->chromadb) (0.6.0)\n",
      "Requirement already satisfied: python-dotenv>=0.13 in /home/tianyu/miniconda3/envs/kefu/lib/python3.9/site-packages (from uvicorn[standard]>=0.18.3->chromadb) (1.0.0)\n",
      "Requirement already satisfied: uvloop!=0.15.0,!=0.15.1,>=0.14.0 in /home/tianyu/miniconda3/envs/kefu/lib/python3.9/site-packages (from uvicorn[standard]>=0.18.3->chromadb) (0.17.0)\n",
      "Requirement already satisfied: watchfiles>=0.13 in /home/tianyu/miniconda3/envs/kefu/lib/python3.9/site-packages (from uvicorn[standard]>=0.18.3->chromadb) (0.19.0)\n",
      "Requirement already satisfied: websockets>=10.4 in /home/tianyu/miniconda3/envs/kefu/lib/python3.9/site-packages (from uvicorn[standard]>=0.18.3->chromadb) (11.0.3)\n",
      "Requirement already satisfied: anyio<5,>=3.4.0 in /home/tianyu/miniconda3/envs/kefu/lib/python3.9/site-packages (from starlette<0.28.0,>=0.27.0->fastapi>=0.85.1->chromadb) (3.7.1)\n",
      "Requirement already satisfied: mypy-extensions>=0.3.0 in /home/tianyu/miniconda3/envs/kefu/lib/python3.9/site-packages (from typing-inspect<1,>=0.4.0->dataclasses-json<0.6.0,>=0.5.7->langchain) (1.0.0)\n",
      "Requirement already satisfied: humanfriendly>=9.1 in /home/tianyu/miniconda3/envs/kefu/lib/python3.9/site-packages (from coloredlogs->onnxruntime>=1.14.1->chromadb) (10.0)\n",
      "Requirement already satisfied: mpmath>=0.19 in /home/tianyu/miniconda3/envs/kefu/lib/python3.9/site-packages (from sympy->onnxruntime>=1.14.1->chromadb) (1.3.0)\n",
      "Requirement already satisfied: sniffio>=1.1 in /home/tianyu/miniconda3/envs/kefu/lib/python3.9/site-packages (from anyio<5,>=3.4.0->starlette<0.28.0,>=0.27.0->fastapi>=0.85.1->chromadb) (1.3.0)\n",
      "Requirement already satisfied: exceptiongroup in /home/tianyu/miniconda3/envs/kefu/lib/python3.9/site-packages (from anyio<5,>=3.4.0->starlette<0.28.0,>=0.27.0->fastapi>=0.85.1->chromadb) (1.1.2)\n",
      "Downloading pypdf-3.16.4-py3-none-any.whl (276 kB)\n",
      "\u001b[2K   \u001b[90m━━━━━━━━━━━━━━━━━━━━━━━━━━━━━━━━━━━━━━━━\u001b[0m \u001b[32m276.6/276.6 kB\u001b[0m \u001b[31m9.3 MB/s\u001b[0m eta \u001b[36m0:00:00\u001b[0m\n",
      "\u001b[?25hInstalling collected packages: pypdf\n",
      "Successfully installed pypdf-3.16.4\n"
     ]
    }
   ],
   "source": [
    "!pip install langchain openai chromadb tiktoken pypdf\n"
   ]
  },
  {
   "cell_type": "code",
   "execution_count": 1,
   "id": "4574ffb7-53da-480e-bf82-46d9d794ce82",
   "metadata": {
    "tags": []
   },
   "outputs": [],
   "source": [
    "import os \n",
    "os.environ[\"OPENAI_API_BASE\"] = \"https://openai.api2d.net/v1\"\n",
    "os.environ[\"OPENAI_API_KEY\"] = \"fk193574-JC4P6uf3KOUAd3Xipa0wI8XU5HdpyDIg\""
   ]
  },
  {
   "cell_type": "code",
   "execution_count": 2,
   "id": "4793f8d6-bf79-4513-8a31-06e209852a59",
   "metadata": {
    "tags": []
   },
   "outputs": [],
   "source": [
    "# @Author  : luoyiwen\n",
    "# @File    : guandan_qa.py\n",
    "from langchain.chat_models import ChatOpenAI\n",
    "from langchain.embeddings.openai import OpenAIEmbeddings\n",
    "from langchain.vectorstores import Chroma\n",
    "from langchain.text_splitter import CharacterTextSplitter\n",
    "from langchain.llms import OpenAI\n",
    "from langchain.prompts import HumanMessagePromptTemplate, PromptTemplate, ChatPromptTemplate\n",
    "from langchain.document_loaders import PyPDFLoader\n",
    "from langchain.chains import RetrievalQA, LLMChain, SimpleSequentialChain\n",
    "import os\n"
   ]
  },
  {
   "cell_type": "code",
   "execution_count": 3,
   "id": "cd5ba580-2c29-450b-bb9c-edd301a7da4d",
   "metadata": {
    "tags": []
   },
   "outputs": [],
   "source": [
    "# 加载文件夹中的所有txt类型的文件\n",
    "loader = PyPDFLoader('./file/掼蛋App-2.6.6.pdf')\n",
    "# 将数据转成 document 对象，每个文件会作为一个 document\n",
    "pdf = loader.load()\n",
    "\n",
    "# 初始化加载器\n",
    "text_splitter = CharacterTextSplitter(chunk_size=20, chunk_overlap=0)\n",
    "# 切割加载的 document\n",
    "split_docs = text_splitter.split_documents(pdf)\n",
    "\n",
    "# 初始化 openai 的 embeddings 对象\n",
    "embeddings = OpenAIEmbeddings()\n",
    "# 将 document 通过 openai 的 embeddings 对象计算 embedding 向量信息并临时存入 Chroma 向量数据库，用于后续匹配查询\n",
    "docsearch = Chroma.from_documents(split_docs, embeddings)\n",
    "\n",
    "# 创建问答对象\n",
    "qa = RetrievalQA.from_chain_type(llm=ChatOpenAI(model='gpt-3.5-turbo',temperature=0), chain_type=\"stuff\", retriever=docsearch.as_retriever(), return_source_documents=False)\n",
    "# 进行问答"
   ]
  },
  {
   "cell_type": "code",
   "execution_count": 4,
   "metadata": {},
   "outputs": [
    {
     "name": "stdout",
     "output_type": "stream",
     "text": [
      "{\n",
      "  \"产品需求\": \"升级挑战\",\n",
      "  \"需求背景描述\": \"提高游戏局数和留存\",\n",
      "  \"产品界面变化\": \"每周可获得一张级牌，通过完成每日任务将级数升级，升级数1-3级，完成对应任务后可领取奖励。\",\n",
      "  \"用户交互流程\": \"玩家每周获得一张级牌，完成每日任务升级级数，领取奖励。\"\n",
      "}\n",
      "\n",
      "{\n",
      "  \"产品需求\": \"简洁版动画\",\n",
      "  \"需求背景描述\": \"去掉复杂的出牌动画效果，仅显示牌型名称\",\n",
      "  \"产品界面变化\": \"在对局设置中，出牌动画效果只显示牌型名称\",\n",
      "  \"用户交互流程\": \"在对局设置中选择出牌动画效果，仅显示牌型名称\"\n",
      "}\n",
      "\n",
      "{\n",
      "  \"产品需求\": \"每日任务增加修改昵称任务\",\n",
      "  \"需求背景描述\": \"增加每日任务的多样性，提供修改昵称的任务\",\n",
      "  \"产品界面变化\": \"每日任务中增加修改昵称任务，完成后任务栏消失\",\n",
      "  \"用户交互流程\": \"在每日任务中完成修改昵称任务，获得1000游戏豆奖励\"\n",
      "}\n"
     ]
    }
   ],
   "source": [
    "\n",
    "# 产品描述：需求背景-每日任务/活动\n",
    "result = qa({\"query\":\n",
    "'''\n",
    "新增了几个产品需求？分别总结和抽取每个需求的需求背景描述、产品界面变化和用户交互流程，对与每个产品需求请使用如下的JSON格式返回数据\n",
    "{{\n",
    "  \"产品需求\":\"a\",\n",
    "  \"需求背景描述\":\"b\",\n",
    "  \"产品界面变化\":\"c\",\n",
    "  \"用户交互流程\":\"d\"\n",
    "}}\n",
    "Extracted:\n",
    "'''\n",
    "})\n",
    "print(result['result'])\n",
    "\n",
    "# todo: CHECK 1\n",
    "\n"
   ]
  },
  {
   "cell_type": "code",
   "execution_count": 5,
   "metadata": {},
   "outputs": [
    {
     "name": "stdout",
     "output_type": "stream",
     "text": [
      "[{'query': '结合上面的产品需求，{\\n  \"产品需求\": \"升级挑战\",\\n  \"需求背景描述\": \"提高游戏局数和留存\",\\n  \"产品界面变化\": \"每周可获得一张级牌，通过完成每日任务将级数升级，升级数1-3级，完成对应任务后可领取奖励。\",\\n  \"用户交互流程\": \"玩家每周获得一张级牌，完成每日任务升级级数，领取奖励。\"\\n}\\n\\n{\\n  \"产品需求\": \"简洁版动画\",\\n  \"需求背景描述\": \"去掉复杂的出牌动画效果，仅显示牌型名称\",\\n  \"产品界面变化\": \"在对局设置中，出牌动画效果只显示牌型名称\",\\n  \"用户交互流程\": \"在对局设置中选择出牌动画效果，仅显示牌型名称\"\\n}\\n\\n{\\n  \"产品需求\": \"每日任务增加修改昵称任务\",\\n  \"需求背景描述\": \"增加每日任务的多样性，提供修改昵称的任务\",\\n  \"产品界面变化\": \"每日任务中增加修改昵称任务，完成后任务栏消失\",\\n  \"用户交互流程\": \"在每日任务中完成修改昵称任务，获得1000游戏豆奖励\"\\n}，输出产品需求需要哪几个输入？', 'result': '输出产品需求需要以下几个输入：\\n1. 产品需求：描述产品需求的名称或标题。\\n2. 需求背景描述：解释产品需求的目的和原因。\\n3. 产品界面变化：说明产品界面将如何改变或更新以满足需求。\\n4. 用户交互流程：描述用户在产品界面上如何与需求进行交互的流程。'}, {'query': '结合上面的产品需求，{\\n  \"产品需求\": \"升级挑战\",\\n  \"需求背景描述\": \"提高游戏局数和留存\",\\n  \"产品界面变化\": \"每周可获得一张级牌，通过完成每日任务将级数升级，升级数1-3级，完成对应任务后可领取奖励。\",\\n  \"用户交互流程\": \"玩家每周获得一张级牌，完成每日任务升级级数，领取奖励。\"\\n}\\n\\n{\\n  \"产品需求\": \"简洁版动画\",\\n  \"需求背景描述\": \"去掉复杂的出牌动画效果，仅显示牌型名称\",\\n  \"产品界面变化\": \"在对局设置中，出牌动画效果只显示牌型名称\",\\n  \"用户交互流程\": \"在对局设置中选择出牌动画效果，仅显示牌型名称\"\\n}\\n\\n{\\n  \"产品需求\": \"每日任务增加修改昵称任务\",\\n  \"需求背景描述\": \"增加每日任务的多样性，提供修改昵称的任务\",\\n  \"产品界面变化\": \"每日任务中增加修改昵称任务，完成后任务栏消失\",\\n  \"用户交互流程\": \"在每日任务中完成修改昵称任务，获得1000游戏豆奖励\"\\n}，输出对应的输入有哪几个限制？', 'result': '根据上述产品需求，以下是对应的输入限制：\\n\\n1. 升级挑战：\\n   - 每周只能获得一张级牌。\\n   - 升级数限制在1-3级。\\n   - 完成对应任务后才能领取奖励。\\n\\n2. 简洁版动画：\\n   - 在对局设置中选择出牌动画效果，只显示牌型名称。\\n\\n3. 每日任务增加修改昵称任务：\\n   - 每个账号只能完成一次修改昵称任务。\\n   - 完成任务后，任务栏中的该任务消失。\\n\\n请注意，以上是根据提供的需求信息推测的限制，具体的限制可能还有其他方面的要求，需要进一步确认。'}, {'query': '结合上面的产品需求，{\\n  \"产品需求\": \"升级挑战\",\\n  \"需求背景描述\": \"提高游戏局数和留存\",\\n  \"产品界面变化\": \"每周可获得一张级牌，通过完成每日任务将级数升级，升级数1-3级，完成对应任务后可领取奖励。\",\\n  \"用户交互流程\": \"玩家每周获得一张级牌，完成每日任务升级级数，领取奖励。\"\\n}\\n\\n{\\n  \"产品需求\": \"简洁版动画\",\\n  \"需求背景描述\": \"去掉复杂的出牌动画效果，仅显示牌型名称\",\\n  \"产品界面变化\": \"在对局设置中，出牌动画效果只显示牌型名称\",\\n  \"用户交互流程\": \"在对局设置中选择出牌动画效果，仅显示牌型名称\"\\n}\\n\\n{\\n  \"产品需求\": \"每日任务增加修改昵称任务\",\\n  \"需求背景描述\": \"增加每日任务的多样性，提供修改昵称的任务\",\\n  \"产品界面变化\": \"每日任务中增加修改昵称任务，完成后任务栏消失\",\\n  \"用户交互流程\": \"在每日任务中完成修改昵称任务，获得1000游戏豆奖励\"\\n}，输出当前任务的测试项', 'result': '根据上述产品需求，以下是当前任务的测试项：\\n\\n1. 升级挑战：\\n- 验证每周是否能获得一张级牌。\\n- 验证完成每日任务是否能将级数升级。\\n- 验证升级数是否限制在1-3级。\\n- 验证完成对应任务后是否能领取奖励。\\n\\n2. 简洁版动画：\\n- 验证在对局设置中是否能选择出牌动画效果。\\n- 验证选择的出牌动画效果是否只显示牌型名称。\\n\\n3. 每日任务增加修改昵称任务：\\n- 验证每个账号是否只能完成一次修改昵称任务。\\n- 验证完成修改昵称任务后是否消失任务栏。\\n- 验证完成修改昵称任务是否能获得1000游戏豆奖励。\\n\\n请注意，以上测试项仅为参考，具体的测试范围和测试用例需要根据产品需求和设计文档进行进一步细化和补充。'}, {'query': '结合上面的产品需求，{\\n  \"产品需求\": \"升级挑战\",\\n  \"需求背景描述\": \"提高游戏局数和留存\",\\n  \"产品界面变化\": \"每周可获得一张级牌，通过完成每日任务将级数升级，升级数1-3级，完成对应任务后可领取奖励。\",\\n  \"用户交互流程\": \"玩家每周获得一张级牌，完成每日任务升级级数，领取奖励。\"\\n}\\n\\n{\\n  \"产品需求\": \"简洁版动画\",\\n  \"需求背景描述\": \"去掉复杂的出牌动画效果，仅显示牌型名称\",\\n  \"产品界面变化\": \"在对局设置中，出牌动画效果只显示牌型名称\",\\n  \"用户交互流程\": \"在对局设置中选择出牌动画效果，仅显示牌型名称\"\\n}\\n\\n{\\n  \"产品需求\": \"每日任务增加修改昵称任务\",\\n  \"需求背景描述\": \"增加每日任务的多样性，提供修改昵称的任务\",\\n  \"产品界面变化\": \"每日任务中增加修改昵称任务，完成后任务栏消失\",\\n  \"用户交互流程\": \"在每日任务中完成修改昵称任务，获得1000游戏豆奖励\"\\n}，输出当前任务的测试步骤', 'result': '根据上述需求，以下是当前任务的测试步骤：\\n\\n1. 打开应用并登录账号。\\n2. 进入对局设置界面。\\n3. 确认是否存在出牌动画效果选择项。\\n4. 如果存在，选择简洁版动画。\\n5. 进入每日任务界面。\\n6. 检查是否存在修改昵称任务。\\n7. 如果存在，完成修改昵称任务。\\n8. 确认任务栏中修改昵称任务是否消失。\\n9. 领取修改昵称任务的奖励，检查是否获得1000游戏豆。\\n10. 每周获得一张级牌，完成每日任务升级级数。\\n11. 检查是否能成功升级级数。\\n12. 领取对应级数任务的奖励，检查是否获得相应奖励。\\n13. 检查是否能领取终极大礼奖励。\\n14. 检查终极大礼奖励是否包含xx游戏豆和xx掼神币，以及其他好礼。\\n15. 检查终极大礼宝箱状态是否正确，是否显示为打开状态。\\n16. 检查终极大礼宝箱下方文案是否正确显示。\\n17. 检查每日任务奖励是否仅限当日领取，次日是否重置。\\n18. 检查终极大礼奖励是否每周仅可领取一次。\\n19. 检查未领取的终极大礼奖励是否会在每周重置后通过邮件补偿发放。\\n\\n请注意，以上测试步骤仅为参考，具体的测试步骤可能需要根据实际情况进行调整和补充。'}, {'query': '结合上面的产品需求，{\\n  \"产品需求\": \"升级挑战\",\\n  \"需求背景描述\": \"提高游戏局数和留存\",\\n  \"产品界面变化\": \"每周可获得一张级牌，通过完成每日任务将级数升级，升级数1-3级，完成对应任务后可领取奖励。\",\\n  \"用户交互流程\": \"玩家每周获得一张级牌，完成每日任务升级级数，领取奖励。\"\\n}\\n\\n{\\n  \"产品需求\": \"简洁版动画\",\\n  \"需求背景描述\": \"去掉复杂的出牌动画效果，仅显示牌型名称\",\\n  \"产品界面变化\": \"在对局设置中，出牌动画效果只显示牌型名称\",\\n  \"用户交互流程\": \"在对局设置中选择出牌动画效果，仅显示牌型名称\"\\n}\\n\\n{\\n  \"产品需求\": \"每日任务增加修改昵称任务\",\\n  \"需求背景描述\": \"增加每日任务的多样性，提供修改昵称的任务\",\\n  \"产品界面变化\": \"每日任务中增加修改昵称任务，完成后任务栏消失\",\\n  \"用户交互流程\": \"在每日任务中完成修改昵称任务，获得1000游戏豆奖励\"\\n}，输出当前任务的预置条件', 'result': '根据提供的产品需求，以下是每个需求的预置条件：\\n\\n1. 升级挑战：\\n- 玩家需要每周获得一张级牌。\\n- 玩家需要完成每日任务来升级级数。\\n- 升级数范围为1-3级。\\n- 完成对应任务后，玩家可以领取奖励。\\n\\n2. 简洁版动画：\\n- 玩家需要在对局设置中选择出牌动画效果。\\n- 出牌动画效果将仅显示牌型名称。\\n\\n3. 每日任务增加修改昵称任务：\\n- 每个账号仅能完成一次修改昵称任务。\\n- 完成修改昵称任务后，任务栏将消失。\\n- 完成任务后，玩家将获得1000游戏豆奖励。\\n\\n请注意，以上是根据提供的需求推测的预置条件，具体实现可能会有所不同。'}]\n"
     ]
    }
   ],
   "source": [
    "# 输出每个步骤对应的具体测试\n",
    "\n",
    "# task1: 获取测试描述，对应用户输入的通用限制和界面展示的通用限制\n",
    "_input = qa({\"query\": f\"结合上面的产品需求，{result['result']}，输出产品需求需要哪几个输入？\"})\n",
    "_restrict = qa({\"query\": f\"结合上面的产品需求，{result['result']}，输出对应的输入有哪几个限制？\"})\n",
    "_task = qa({\"query\": f\"结合上面的产品需求，{result['result']}，输出当前任务的测试项\"})\n",
    "_pre = qa({\"query\": f\"结合上面的产品需求，{result['result']}，输出当前任务的预置条件\"})\n",
    "_steps = qa({\"query\": f\"结合上面的产品需求，{result['result']}，输出当前任务的测试步骤\"})\n",
    "query_input1 = [_input, _restrict, _task, _steps,_pre]\n",
    "print(query_input1)"
   ]
  },
  {
   "cell_type": "code",
   "execution_count": 6,
   "metadata": {},
   "outputs": [
    {
     "name": "stdout",
     "output_type": "stream",
     "text": [
      "[{'query': '产品需求需要哪几个输入？', 'result': '根据提供的上下文，产品需求需要以下几个输入：\\n\\n1. 需求目的：明确产品需求的目标和目的。\\n2. 需求方案：提供解决方案来满足需求目的。\\n3. 任务配置：确定每日任务的类型和配置，包括任务类型和任务奖励等。\\n4. 组队界面banner优化：配置组队界面的banner链接和点击banner吊起的购买界面。\\n5. 增加互动表情礼包：配置互动表情礼包的购买入口、礼包配置和界面相关内容。\\n6. 其他小优化：包括王者归来弹窗优化、更换loading页、简洁版动画和每日任务增加修改昵称任务的具体要求和配置。\\n\\n请注意，以上是根据提供的上下文推测的需求输入，具体的需求输入可能还需要根据实际情况进行补充。'}, {'query': '对应的输入有哪几个限制？', 'result': '根据提供的上下文，没有提到任何与输入相关的限制。因此，无法确定对应的输入限制是什么。'}, {'query': '当前任务的测试项', 'result': '根据提供的上下文，没有提到当前任务的具体测试项。因此，无法提供当前任务的测试项。'}, {'query': '当前任务的测试步骤', 'result': '抱歉，根据提供的上下文，没有提到当前任务的具体内容和测试步骤。请提供更多相关信息，以便我能够帮助您回答问题。'}, {'query': '当前任务的预置条件', 'result': '根据提供的上下文，当前任务的预置条件可能包括以下内容：\\n\\n- 每个账号只能完成一次修改昵称任务。\\n- 完成每日任务可以获得升级点数，但仅限于游戏豆场和掼神币场。\\n- 终极大礼的奖励每周只能领取一次，已完成升级但未领取的终极大礼奖励将在每周的“升级大挑战”重置后通过邮件补偿发放。\\n- 首充礼包和30万概率礼包的具体配置和链接需要等待美术出图后生成。\\n- 互动表情礼包可以在商城的道具分类下购买。\\n\\n请注意，这些条件是根据上下文推测的，具体的预置条件可能还有其他内容。'}]\n"
     ]
    }
   ],
   "source": [
    "# task1: 获取测试描述，对应用户输入的通用限制和界面展示的通用限制\n",
    "_input = qa({\"query\": \"产品需求需要哪几个输入？\"})\n",
    "_restrict = qa({\"query\": \"对应的输入有哪几个限制？\"})\n",
    "_task = qa({\"query\": \"当前任务的测试项\"})\n",
    "_pre = qa({\"query\": \"当前任务的预置条件\"})\n",
    "_steps = qa({\"query\": \"当前任务的测试步骤\"})\n",
    "query_input2 = [_input, _restrict, _task, _steps,_pre]\n",
    "print(query_input2)"
   ]
  },
  {
   "cell_type": "code",
   "execution_count": 7,
   "metadata": {},
   "outputs": [],
   "source": [
    "human_msg_prompt = HumanMessagePromptTemplate(\n",
    "    prompt=PromptTemplate(\n",
    "        template=\n",
    "        '''\n",
    "        根据当前每个产品需求对应的{query_input}JSON数据、测试项，总结和抽取相应的测试描述，按以下格式返回：\n",
    "        {{\n",
    "          \"产品需求\":\"a\",\n",
    "          \"需要的用户输入\":\"b\",\n",
    "          \"用户输入的通用限制\":\"c\",\n",
    "          \"界面展示的通用限制\":\"d\",\n",
    "          \"当前任务的测试步骤\":\"e\",\n",
    "        }}       \n",
    "        Extracted: \n",
    "        ''',\n",
    "        input_variables=[\"query_input\"]\n",
    "    )\n",
    ")\n",
    "chat_prompt_template = ChatPromptTemplate.from_messages([human_msg_prompt])\n",
    "chain = LLMChain(llm=ChatOpenAI(model='gpt-3.5-turbo',temperature=0), prompt=chat_prompt_template)"
   ]
  },
  {
   "cell_type": "code",
   "execution_count": 8,
   "metadata": {},
   "outputs": [
    {
     "name": "stdout",
     "output_type": "stream",
     "text": [
      "[\n",
      "  {\n",
      "    \"测试项\": \"打开应用并登录账号\",\n",
      "    \"预置条件\": \"无\",\n",
      "    \"测试步骤\": \"打开应用并登录账号。\",\n",
      "    \"测试期望结果\": \"成功打开应用并登录账号。\"\n",
      "  },\n",
      "  {\n",
      "    \"测试项\": \"进入对局设置界面\",\n",
      "    \"预置条件\": \"无\",\n",
      "    \"测试步骤\": \"进入对局设置界面。\",\n",
      "    \"测试期望结果\": \"成功进入对局设置界面。\"\n",
      "  },\n",
      "  {\n",
      "    \"测试项\": \"确认是否存在出牌动画效果选择项\",\n",
      "    \"预置条件\": \"无\",\n",
      "    \"测试步骤\": \"确认是否存在出牌动画效果选择项。\",\n",
      "    \"测试期望结果\": \"存在出牌动画效果选择项。\"\n",
      "  },\n",
      "  {\n",
      "    \"测试项\": \"如果存在，选择简洁版动画\",\n",
      "    \"预置条件\": \"出牌动画效果选择项存在\",\n",
      "    \"测试步骤\": \"选择简洁版动画。\",\n",
      "    \"测试期望结果\": \"成功选择简洁版动画。\"\n",
      "  },\n",
      "  {\n",
      "    \"测试项\": \"进入每日任务界面\",\n",
      "    \"预置条件\": \"无\",\n",
      "    \"测试步骤\": \"进入每日任务界面。\",\n",
      "    \"测试期望结果\": \"成功进入每日任务界面。\"\n",
      "  },\n",
      "  {\n",
      "    \"测试项\": \"检查是否存在修改昵称任务\",\n",
      "    \"预置条件\": \"无\",\n",
      "    \"测试步骤\": \"检查是否存在修改昵称任务。\",\n",
      "    \"测试期望结果\": \"存在修改昵称任务。\"\n",
      "  },\n",
      "  {\n",
      "    \"测试项\": \"如果存在，完成修改昵称任务\",\n",
      "    \"预置条件\": \"修改昵称任务存在\",\n",
      "    \"测试步骤\": \"完成修改昵称任务。\",\n",
      "    \"测试期望结果\": \"成功完成修改昵称任务。\"\n",
      "  },\n",
      "  {\n",
      "    \"测试项\": \"确认任务栏中修改昵称任务是否消失\",\n",
      "    \"预置条件\": \"修改昵称任务已完成\",\n",
      "    \"测试步骤\": \"确认任务栏中修改昵称任务是否消失。\",\n",
      "    \"测试期望结果\": \"修改昵称任务已消失。\"\n",
      "  },\n",
      "  {\n",
      "    \"测试项\": \"领取修改昵称任务的奖励，检查是否获得1000游戏豆\",\n",
      "    \"预置条件\": \"修改昵称任务已完成\",\n",
      "    \"测试步骤\": \"领取修改昵称任务的奖励，检查是否获得1000游戏豆。\",\n",
      "    \"测试期望结果\": \"成功领取修改昵称任务奖励，并获得1000游戏豆。\"\n",
      "  },\n",
      "  {\n",
      "    \"测试项\": \"每周获得一张级牌，完成每日任务升级级数\",\n",
      "    \"预置条件\": \"无\",\n",
      "    \"测试步骤\": \"每周获得一张级牌，完成每日任务升级级数。\",\n",
      "    \"测试期望结果\": \"成功获得一张级牌，并完成每日任务升级级数。\"\n",
      "  },\n",
      "  {\n",
      "    \"测试项\": \"检查是否能成功升级级数\",\n",
      "    \"预置条件\": \"已完成每日任务升级级数\",\n",
      "    \"测试步骤\": \"检查是否能成功升级级数。\",\n",
      "    \"测试期望结果\": \"成功升级级数。\"\n",
      "  },\n",
      "  {\n",
      "    \"测试项\": \"领取对应级数任务的奖励，检查是否获得相应奖励\",\n",
      "    \"预置条件\": \"已完成每日任务升级级数\",\n",
      "    \"测试步骤\": \"领取对应级数任务的奖励，检查是否获得相应奖励。\",\n",
      "    \"测试期望结果\": \"成功领取对应级数任务奖励，并获得相应奖励。\"\n",
      "  },\n",
      "  {\n",
      "    \"测试项\": \"检查是否能领取终极大礼奖励\",\n",
      "    \"预置条件\": \"已完成每日任务升级级数\",\n",
      "    \"测试步骤\": \"检查是否能领取终极大礼奖励。\",\n",
      "    \"测试期望结果\": \"能成功领取终极大礼奖励。\"\n",
      "  },\n",
      "  {\n",
      "    \"测试项\": \"检查终极大礼奖励是否包含xx游戏豆和xx掼神币，以及其他好礼\",\n",
      "    \"预置条件\": \"已完成每日任务升级级数\",\n",
      "    \"测试步骤\": \"检查终极大礼奖励是否包含xx游戏豆和xx掼神币，以及其他好礼。\",\n",
      "    \"测试期望结果\": \"终极大礼奖励包含xx游戏豆和xx掼神币，以及其他好礼。\"\n",
      "  },\n",
      "  {\n",
      "    \"测试项\": \"检查终极大礼宝箱状态是否正确，是否显示为打开状态\",\n",
      "    \"预置条件\": \"已完成每日任务升级级数\",\n",
      "    \"测试步骤\": \"检查终极大礼宝箱状态是否正确，是否显示为打开状态。\",\n",
      "    \"测试期望结果\": \"终极大礼宝箱状态正确，显示为打开状态。\"\n",
      "  }\n",
      "]\n"
     ]
    }
   ],
   "source": [
    "# task2：生成对应步骤的测试文案\n",
    "second_prompt = PromptTemplate(\n",
    "        template=\n",
    "        '''\n",
    "        测试项是指产品需求中一个功能点需要测试内容的总结(例如，升级大挑战弹窗UI展示)，预置条件是指当执行测试时，需要提前准备的工作(例如，首次点击, 也可为无); 期望测试结果为对应测试步骤的预期的测试结果(例如,升级大挑战弹窗关闭;)。给定对应的JSON数据，根据%测试描述 {test_json}中\"当前任务的测试步骤\"字段，对每一个字段分别生成具体的测试步骤，按以下格式返回：\n",
    "        {{\n",
    "        \"测试项\":\"a\",\n",
    "        \"预置条件\":\"b\",\n",
    "        \"测试步骤\":\"c\",\n",
    "        \"测试期望结果\":\"d\",\n",
    "        }}       \n",
    "        Extracted: \n",
    "        ''',\n",
    "        input_variables=[\"test_json\"]\n",
    ")\n",
    "##to do 把对应的测试结果逻辑对应到测试步骤里面\n",
    "chain_two = LLMChain(llm=ChatOpenAI(model='gpt-3.5-turbo',temperature=0.9), prompt=second_prompt)\n",
    "\n",
    "overall_chain = SimpleSequentialChain(chains=[chain, chain_two])\n",
    "\n",
    "\n",
    "# 将 query_input 数据作为输入传递给第一个 chain\n",
    "output_from_chain1 = chain.run(query_input1)\n",
    "\n",
    "# todo: CHECK 2\n",
    "\n",
    "# 将输出结果作为输入传递给第二个 chain\n",
    "output_from_chain2 = overall_chain.run(output_from_chain1)\n",
    "\n",
    "# todo: CHECK 3\n",
    "\n",
    "# 输出第二个 chain 的结果\n",
    "print(output_from_chain2)"
   ]
  },
  {
   "cell_type": "code",
   "execution_count": null,
   "metadata": {},
   "outputs": [],
   "source": []
  },
  {
   "cell_type": "code",
   "execution_count": null,
   "metadata": {},
   "outputs": [],
   "source": []
  }
 ],
 "metadata": {
  "kernelspec": {
   "display_name": "Python 3 (ipykernel)",
   "language": "python",
   "name": "python3"
  },
  "language_info": {
   "codemirror_mode": {
    "name": "ipython",
    "version": 3
   },
   "file_extension": ".py",
   "mimetype": "text/x-python",
   "name": "python",
   "nbconvert_exporter": "python",
   "pygments_lexer": "ipython3",
   "version": "3.8.18"
  }
 },
 "nbformat": 4,
 "nbformat_minor": 5
}
