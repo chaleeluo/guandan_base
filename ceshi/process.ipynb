{
 "cells": [
  {
   "cell_type": "code",
   "execution_count": 6,
   "metadata": {},
   "outputs": [
    {
     "data": {
      "text/plain": [
       "'[\\n  {\\n    \"测试项\": \"检查翻牌动画是否正确\",\\n    \"预置条件\": \"无\",\\n    \"测试步骤\": \"1. 进入翻牌界面\\\\n2. 点击翻牌按钮\\\\n3. 观察翻牌动画是否正确\",\\n    \"测试期望结果\": \"翻牌动画显示流畅，无卡顿或错位现象\"\\n  },\\n  {\\n    \"测试项\": \"检查宝箱状态是否正确\",\\n    \"预置条件\": \"无\",\\n    \"测试步骤\": \"1. 进入宝箱界面\\\\n2. 检查宝箱的状态是否正确，如已开启、未开启、已领取等\",\\n    \"测试期望结果\": \"宝箱状态显示正确，与实际情况一致\"\\n  },\\n  {\\n    \"测试项\": \"检查升级级牌是否有特效动画\",\\n    \"预置条件\": \"无\",\\n    \"测试步骤\": \"1. 进入升级界面\\\\n2. 查看升级级牌是否有特效动画\",\\n    \"测试期望结果\": \"升级级牌有特效动画，能够吸引用户注意\"\\n  },\\n  {\\n    \"测试项\": \"检查对话框展示的配置的奖励是否正确\",\\n    \"预置条件\": \"无\",\\n    \"测试步骤\": \"1. 进入对话框界面\\\\n2. 检查对话框展示的奖励是否与配置一致\",\\n    \"测试期望结果\": \"对话框展示的奖励与配置一致，显示准确\"\\n  },\\n  {\\n    \"测试项\": \"检查每日任务和升级点数获取是否正确\",\\n    \"预置条件\": \"无\",\\n    \"测试步骤\": \"1. 进入任务界面\\\\n2. 完成每日任务和升级任务\\\\n3. 检查每日任务和升级点数获取是否正确\",\\n    \"测试期望结果\": \"每日任务和升级点数获取正确，能够正常累积\"\\n  },\\n  {\\n    \"测试项\": \"检查每日任务的奖励是否正确\",\\n    \"预置条件\": \"无\",\\n    \"测试步骤\": \"1. 进入任务界面\\\\n2. 检查每日任务的奖励是否正确\",\\n    \"测试期望结果\": \"每日任务的奖励正确，与配置一致\"\\n  },\\n  {\\n    \"测试项\": \"检查终极大礼的奖励是否正确\",\\n    \"预置条件\": \"无\",\\n    \"测试步骤\": \"1. 进入终极大礼界面\\\\n2. 检查终极大礼的奖励是否正确\",\\n    \"测试期望结果\": \"终极大礼的奖励正确，与配置一致\"\\n  },\\n  {\\n    \"测试项\": \"检查王\",\\n    \"预置条件\": \"无\",\\n    \"测试步骤\": \"未提供具体的测试步骤\",\\n    \"测试期望结果\": \"无法生成具体的测试期望结果\"\\n  }\\n]'"
      ]
     },
     "execution_count": 6,
     "metadata": {},
     "output_type": "execute_result"
    }
   ],
   "source": [
    "import pandas as pd\n",
    "import json\n",
    "\n",
    "# Load the JSON file\n",
    "json_file_path = 'all_results_new2.json'  # Replace with the actual path to your JSON file\n",
    "with open(json_file_path, 'r', encoding='utf-8') as json_file:\n",
    "    data = json.load(json_file)\n",
    "\n",
    "data[0]\n"
   ]
  },
  {
   "cell_type": "code",
   "execution_count": 7,
   "metadata": {},
   "outputs": [
    {
     "data": {
      "text/plain": [
       "1068"
      ]
     },
     "execution_count": 7,
     "metadata": {},
     "output_type": "execute_result"
    }
   ],
   "source": []
  },
  {
   "cell_type": "code",
   "execution_count": 2,
   "metadata": {},
   "outputs": [],
   "source": [
    "import json\n",
    "result = []\n",
    "for i in range(len(data)):\n",
    "    # Assuming data[0] is a string representation of a JSON array\n",
    "    json_string_with_brackets = f'[{data[i].strip()}]'\n",
    "    try:\n",
    "        # Load the JSON string into a list of dictionaries\n",
    "        json_data = json.loads(json_string_with_brackets)\n",
    "\n",
    "        \n",
    "        # Now json_data is a list of dictionaries, and you can work with it as needed\n",
    "        for item in json_data:\n",
    "            try:\n",
    "                result.append({'测试项': item['测试项'],'预置条件': item['预置条件'],'测试步骤': item['测试步骤'], '测试期望结果': item['测试期望结果']})\n",
    "                # print(f\"测试步骤: {item['测试步骤']}, 测试期望结果: {item['测试期望结果']}\")\n",
    "            except:\n",
    "                pass\n",
    "    except:\n",
    "        pass\n",
    "\n",
    "\n"
   ]
  },
  {
   "cell_type": "code",
   "execution_count": null,
   "metadata": {},
   "outputs": [],
   "source": []
  },
  {
   "cell_type": "code",
   "execution_count": 3,
   "metadata": {},
   "outputs": [
    {
     "data": {
      "text/plain": [
       "19"
      ]
     },
     "execution_count": 3,
     "metadata": {},
     "output_type": "execute_result"
    }
   ],
   "source": [
    "len(result)"
   ]
  },
  {
   "cell_type": "code",
   "execution_count": 4,
   "metadata": {},
   "outputs": [],
   "source": [
    "df=pd.DataFrame(result)\n",
    "df.to_excel('resultnew2.xlsx')"
   ]
  },
  {
   "cell_type": "code",
   "execution_count": null,
   "metadata": {},
   "outputs": [],
   "source": []
  }
 ],
 "metadata": {
  "kernelspec": {
   "display_name": "gd",
   "language": "python",
   "name": "python3"
  },
  "language_info": {
   "codemirror_mode": {
    "name": "ipython",
    "version": 3
   },
   "file_extension": ".py",
   "mimetype": "text/x-python",
   "name": "python",
   "nbconvert_exporter": "python",
   "pygments_lexer": "ipython3",
   "version": "3.8.18"
  }
 },
 "nbformat": 4,
 "nbformat_minor": 2
}
